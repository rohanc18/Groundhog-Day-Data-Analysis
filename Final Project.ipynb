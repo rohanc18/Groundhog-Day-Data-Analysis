{
 "cells": [
  {
   "cell_type": "code",
   "execution_count": 47,
   "metadata": {},
   "outputs": [],
   "source": [
    "# FINAL PROJECT\n",
    "# import libraries\n",
    "import numpy as np\n",
    "import pandas as pd\n",
    "import matplotlib.pyplot as plt"
   ]
  },
  {
   "cell_type": "code",
   "execution_count": 48,
   "metadata": {},
   "outputs": [],
   "source": [
    "# Import the data-set\n",
    "df = pd.read_csv('archive.csv')\n"
   ]
  },
  {
   "cell_type": "code",
   "execution_count": 49,
   "metadata": {},
   "outputs": [
    {
     "name": "stdout",
     "output_type": "stream",
     "text": [
      "Index(['Year', 'Punxsutawney_Phil', 'February Average Temperature',\n",
      "       'February Average Temperature (Northeast)',\n",
      "       'February Average Temperature (Midwest)',\n",
      "       'February Average Temperature (Pennsylvania)',\n",
      "       'March Average Temperature', 'March Average Temperature (Northeast)',\n",
      "       'March Average Temperature (Midwest)',\n",
      "       'March Average Temperature (Pennsylvania)'],\n",
      "      dtype='object')\n"
     ]
    }
   ],
   "source": [
    "# All rows with no data, no record, and partial shadow are deleted\n",
    "df2 = df.dropna()\n",
    "\n",
    "df3 = df2[~df2.Punxsutawney_Phil.str.contains(\"No Record\")]\n",
    "df3 = df3[~df3.Punxsutawney_Phil.str.contains(\"Partial Shadow\")]\n",
    "\n",
    "print(df3.columns)"
   ]
  },
  {
   "cell_type": "code",
   "execution_count": 50,
   "metadata": {},
   "outputs": [
    {
     "name": "stdout",
     "output_type": "stream",
     "text": [
      "Index(['Year', 'Punxsutawney_Phil', 'February Average Temperature', 'Feb_Nor',\n",
      "       'February_Mid', 'February_Pen', 'March Average Temperature',\n",
      "       'March_Nor', 'March_Mid', 'March_Pen'],\n",
      "      dtype='object')\n"
     ]
    }
   ],
   "source": [
    "# Deleting spaces from column names\n",
    "df3.columns = ['Year', 'Punxsutawney_Phil', 'February Average Temperature',\n",
    "       'Feb_Nor',\n",
    "       'February_Mid',\n",
    "       'February_Pen',\n",
    "       'March Average Temperature', 'March_Nor',\n",
    "       'March_Mid',\n",
    "       'March_Pen']\n",
    "print(df3.columns)\n",
    "\n",
    "#Creating columns of the temperature difference between March and February\n",
    "df3['Nor_Diff'] = df3['March_Nor'] - df3['Feb_Nor'] \n",
    "df3['Mid_Diff'] = df3['March_Mid'] - df3['February_Mid'] \n",
    "df3['Pen_Diff'] = df3['March_Pen'] - df3['February_Pen'] \n",
    "\n",
    "\n",
    "df3[[\"Year\"]] = df3[[\"Year\"]].apply(pd.to_numeric)"
   ]
  },
  {
   "cell_type": "code",
   "execution_count": 76,
   "metadata": {},
   "outputs": [
    {
     "name": "stdout",
     "output_type": "stream",
     "text": [
      "                                 OLS Regression Results                                \n",
      "=======================================================================================\n",
      "Dep. Variable:                      y   R-squared (uncentered):                   0.684\n",
      "Model:                            OLS   Adj. R-squared (uncentered):              0.682\n",
      "Method:                 Least Squares   F-statistic:                              247.3\n",
      "Date:                Thu, 10 Dec 2020   Prob (F-statistic):                    2.50e-30\n",
      "Time:                        17:33:17   Log-Likelihood:                         -88.812\n",
      "No. Observations:                 115   AIC:                                      179.6\n",
      "Df Residuals:                     114   BIC:                                      182.4\n",
      "Df Model:                           1                                                  \n",
      "Covariance Type:            nonrobust                                                  \n",
      "==============================================================================\n",
      "                 coef    std err          t      P>|t|      [0.025      0.975]\n",
      "------------------------------------------------------------------------------\n",
      "Nor_Diff       0.0710      0.005     15.726      0.000       0.062       0.080\n",
      "==============================================================================\n",
      "Omnibus:                        7.490   Durbin-Watson:                   1.894\n",
      "Prob(Omnibus):                  0.024   Jarque-Bera (JB):                7.199\n",
      "Skew:                          -0.598   Prob(JB):                       0.0273\n",
      "Kurtosis:                       3.271   Cond. No.                         1.00\n",
      "==============================================================================\n",
      "\n",
      "Warnings:\n",
      "[1] Standard Errors assume that the covariance matrix of the errors is correctly specified.\n"
     ]
    }
   ],
   "source": [
    "# Based on your exploration, create a (OLS) regression analysis, and write what you've learned from your analysis\n",
    "#OLS Regression of Data using data from the Northeast\n",
    "import statsmodels.api as sm\n",
    "shadow = []\n",
    "#0 is No Shadow, meaning Spring and 1 is Shadow, meaning Winter\n",
    "for x in df3.Punxsutawney_Phil:\n",
    "   if(x == 'No Shadow'):\n",
    "    shadow.append(0)\n",
    "   if(x == 'Full Shadow'):\n",
    "    shadow.append(1) \n",
    "\n",
    "\n",
    "XVar2 = df3[[\"Nor_Diff\"]]\n",
    "YVar2 = shadow\n",
    "LinearModel2 = sm.OLS(YVar2, XVar2)\n",
    "results = LinearModel2.fit()\n",
    "print(results.summary())"
   ]
  },
  {
   "cell_type": "code",
   "execution_count": 52,
   "metadata": {},
   "outputs": [
    {
     "name": "stdout",
     "output_type": "stream",
     "text": [
      "                                 OLS Regression Results                                \n",
      "=======================================================================================\n",
      "Dep. Variable:               Mid_Diff   R-squared (uncentered):                   0.640\n",
      "Model:                            OLS   Adj. R-squared (uncentered):              0.637\n",
      "Method:                 Least Squares   F-statistic:                              202.9\n",
      "Date:                Wed, 09 Dec 2020   Prob (F-statistic):                    4.59e-27\n",
      "Time:                        16:04:10   Log-Likelihood:                         -384.72\n",
      "No. Observations:                 115   AIC:                                      771.4\n",
      "Df Residuals:                     114   BIC:                                      774.2\n",
      "Df Model:                           1                                                  \n",
      "Covariance Type:            nonrobust                                                  \n",
      "==============================================================================\n",
      "                 coef    std err          t      P>|t|      [0.025      0.975]\n",
      "------------------------------------------------------------------------------\n",
      "x1             9.8210      0.690     14.243      0.000       8.455      11.187\n",
      "==============================================================================\n",
      "Omnibus:                        1.429   Durbin-Watson:                   1.832\n",
      "Prob(Omnibus):                  0.490   Jarque-Bera (JB):                1.054\n",
      "Skew:                           0.224   Prob(JB):                        0.590\n",
      "Kurtosis:                       3.141   Cond. No.                         1.00\n",
      "==============================================================================\n",
      "\n",
      "Warnings:\n",
      "[1] Standard Errors assume that the covariance matrix of the errors is correctly specified.\n"
     ]
    }
   ],
   "source": [
    "#OLS Regression of Data using data from the Northeast\n",
    "YVar3 = df3[[\"Mid_Diff\"]]\n",
    "XVar3 = shadow\n",
    "LinearModel3 = sm.OLS(YVar3, XVar3)\n",
    "results2 = LinearModel3.fit()\n",
    "print(results2.summary())"
   ]
  },
  {
   "cell_type": "code",
   "execution_count": 53,
   "metadata": {},
   "outputs": [
    {
     "name": "stdout",
     "output_type": "stream",
     "text": [
      "                                 OLS Regression Results                                \n",
      "=======================================================================================\n",
      "Dep. Variable:               Pen_Diff   R-squared (uncentered):                   0.646\n",
      "Model:                            OLS   Adj. R-squared (uncentered):              0.643\n",
      "Method:                 Least Squares   F-statistic:                              208.2\n",
      "Date:                Wed, 09 Dec 2020   Prob (F-statistic):                    1.78e-27\n",
      "Time:                        16:04:11   Log-Likelihood:                         -377.17\n",
      "No. Observations:                 115   AIC:                                      756.3\n",
      "Df Residuals:                     114   BIC:                                      759.1\n",
      "Df Model:                           1                                                  \n",
      "Covariance Type:            nonrobust                                                  \n",
      "==============================================================================\n",
      "                 coef    std err          t      P>|t|      [0.025      0.975]\n",
      "------------------------------------------------------------------------------\n",
      "x1             9.3160      0.646     14.428      0.000       8.037      10.595\n",
      "==============================================================================\n",
      "Omnibus:                        1.078   Durbin-Watson:                   1.903\n",
      "Prob(Omnibus):                  0.583   Jarque-Bera (JB):                1.179\n",
      "Skew:                           0.199   Prob(JB):                        0.555\n",
      "Kurtosis:                       2.703   Cond. No.                         1.00\n",
      "==============================================================================\n",
      "\n",
      "Warnings:\n",
      "[1] Standard Errors assume that the covariance matrix of the errors is correctly specified.\n"
     ]
    }
   ],
   "source": [
    "#OLS Regression of Data using data from the Northeast\n",
    "YVar4 = df3[[\"Pen_Diff\"]]\n",
    "XVar4 = shadow\n",
    "LinearModel4 = sm.OLS(YVar4, XVar4)\n",
    "results4 = LinearModel4.fit()\n",
    "print(results4.summary())"
   ]
  },
  {
   "cell_type": "code",
   "execution_count": 54,
   "metadata": {},
   "outputs": [
    {
     "data": {
      "image/png": "[encoded data removed]",
      "text/plain": [
       "<Figure size 432x288 with 1 Axes>"
      ]
     },
     "metadata": {
      "needs_background": "light"
     },
     "output_type": "display_data"
    }
   ],
   "source": [
    "#Graph difference in temperature from the Northeast\n",
    "import matplotlib.pyplot as plt\n",
    "\n",
    "colors = []\n",
    "i = 0\n",
    "for x in df3.Punxsutawney_Phil:\n",
    "   if(x == 'No Shadow'):\n",
    "    colors.append('Green')\n",
    "   if(x == 'Full Shadow'):\n",
    "    colors.append('Red') \n",
    "\n",
    "height = df3.Nor_Diff\n",
    "bars = df3.Year\n",
    "y_pos = np.arange(len(bars))\n",
    "plt.bar(y_pos, height, color=colors)\n",
    "\n",
    "#Red = Full Shadow and Green = No Shadow\n",
    "#Full Shadow should have larger temperature difference than No Shadow\n",
    "\n",
    "plt.title('Change in Northeast Temperature between February and March')\n",
    "plt.xlabel('Year')\n",
    "plt.ylabel('Difference in Temperature (F)')\n",
    "\n",
    "plt.show()"
   ]
  },
  {
   "cell_type": "code",
   "execution_count": 30,
   "metadata": {},
   "outputs": [
    {
     "data": {
      "image/png": "[encoded data removed]",
      "text/plain": [
       "<Figure size 432x288 with 1 Axes>"
      ]
     },
     "metadata": {
      "needs_background": "light"
     },
     "output_type": "display_data"
    }
   ],
   "source": [
    "#Graph differences in temperature from the Midwest\n",
    "#Red = Full Shadow and Green = No Shadow\n",
    "#Full Shadow should have larger temperature difference than No Shadow\n",
    "\n",
    "height2 = df3.Mid_Diff\n",
    "bars2 = df3.Year\n",
    "y_pos2 = np.arange(len(bars2))\n",
    "plt.bar(y_pos2, height2, color=colors)\n",
    "#plt.xticks(y_pos, bars)\n",
    "plt.title('Change in Midwest Temperature between February and March')\n",
    "plt.xlabel('Year')\n",
    "plt.ylabel('Difference in Temperature (F)')\n",
    "#plt.legend()\n",
    "plt.show()"
   ]
  },
  {
   "cell_type": "code",
   "execution_count": 32,
   "metadata": {},
   "outputs": [
    {
     "data": {
      "image/png": "[encoded data removed]",
      "text/plain": [
       "<Figure size 432x288 with 1 Axes>"
      ]
     },
     "metadata": {
      "needs_background": "light"
     },
     "output_type": "display_data"
    }
   ],
   "source": [
    "#Graph differences in temperature from the Pennsylvania\n",
    "#Red = Full Shadow and Green = No Shadow\n",
    "#Full Shadow should have larger temperature difference than No Shadow\n",
    "\n",
    "height3 = df3.Pen_Diff\n",
    "bars3 = df3.Year\n",
    "y_pos3 = np.arange(len(bars3))\n",
    "plt.bar(y_pos3, height3, color=colors)\n",
    "#plt.xticks(y_pos, bars)\n",
    "plt.title('Change in Pennsylvania Temperature between February and March')\n",
    "plt.xlabel('Year')\n",
    "plt.ylabel('Difference in Temperature (F)')\n",
    "#plt.legend()\n",
    "plt.show()"
   ]
  },
  {
   "cell_type": "code",
   "execution_count": 72,
   "metadata": {},
   "outputs": [
    {
     "name": "stderr",
     "output_type": "stream",
     "text": [
      "C:\\Users\\rohan\\Anaconda3\\lib\\site-packages\\ipykernel_launcher.py:11: RuntimeWarning: Second argument 'y' is ambiguous: could be a color spec but is in data; using as data.  Either rename the entry in data or use three arguments to plot.\n",
      "  # This is added back by InteractiveShellApp.init_path()\n"
     ]
    },
    {
     "data": {
      "image/png": "[encoded data removed]",
      "text/plain": [
       "<Figure size 432x288 with 1 Axes>"
      ]
     },
     "metadata": {
      "needs_background": "light"
     },
     "output_type": "display_data"
    },
    {
     "name": "stderr",
     "output_type": "stream",
     "text": [
      "C:\\Users\\rohan\\Anaconda3\\lib\\site-packages\\ipykernel_launcher.py:21: RuntimeWarning: Second argument 'y2' is ambiguous: could be a color spec but is in data; using as data.  Either rename the entry in data or use three arguments to plot.\n"
     ]
    },
    {
     "data": {
      "image/png": "[encoded data removed]",
      "text/plain": [
       "<Figure size 432x288 with 1 Axes>"
      ]
     },
     "metadata": {
      "needs_background": "light"
     },
     "output_type": "display_data"
    }
   ],
   "source": [
    "#Scatter plots of No Shadow data and Full Shadow Data\n",
    "\n",
    "df5 = df3[~df3.Punxsutawney_Phil.str.contains(\"Full Shadow\")] #No Shadow\n",
    "df6 = df3[~df3.Punxsutawney_Phil.str.contains(\"No Shadow\")] #Full Shadow\n",
    "#m, b = np.polyfit(x,y, 1)\n",
    "x=df5.Year\n",
    "y=df5.Pen_Diff\n",
    "\n",
    "dfNoShadow_Pen = pd.DataFrame({'x': df5.Year, 'y': df5.Pen_Diff })\n",
    "\n",
    "plt.plot( 'x', 'y', data=dfNoShadow_Pen, linestyle='none', marker='o', markerfacecolor = 'Green')\n",
    "plt.title('Change in Pennsylvania Temperature between February and March (No Shadow)')\n",
    "plt.xlabel('Year')\n",
    "plt.ylabel('Difference in Temperature (F)')\n",
    "plt.show()\n",
    "\n",
    "x2=df6.Year\n",
    "y2=df6.Pen_Diff\n",
    "dfShadow_Pen = pd.DataFrame({'x2': df6.Year, 'y2': df6.Pen_Diff })\n",
    "\n",
    "plt.plot( 'x2', 'y2', data=dfShadow_Pen, linestyle='none', marker='o', markerfacecolor = 'Red')\n",
    "plt.title('Change in Pennsylvania Temperature between February and March (Full Shadow)')\n",
    "plt.xlabel('Year')\n",
    "plt.ylabel('Difference in Temperature (F)')\n",
    "plt.show()"
   ]
  },
  {
   "cell_type": "code",
   "execution_count": null,
   "metadata": {},
   "outputs": [],
   "source": [
    "# Write a recommendation based on your analysis"
   ]
  },
  {
   "cell_type": "markdown",
   "metadata": {},
   "source": [
    "We would recommend not to trust Punxsutawney Phil. Although this is a fun tradition, the data clearly shows that there is minimal correlation between whether or not he sees his shadow and seasonal changes."
   ]
  }
 ],
 "metadata": {
  "kernelspec": {
   "display_name": "Python 3",
   "language": "python",
   "name": "python3"
  },
  "language_info": {
   "codemirror_mode": {
    "name": "ipython",
    "version": 3
   },
   "file_extension": ".py",
   "mimetype": "text/x-python",
   "name": "python",
   "nbconvert_exporter": "python",
   "pygments_lexer": "ipython3",
   "version": "3.7.4"
  }
 },
 "nbformat": 4,
 "nbformat_minor": 2
}
